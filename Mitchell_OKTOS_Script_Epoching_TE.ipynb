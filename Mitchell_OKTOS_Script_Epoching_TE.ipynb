{
 "cells": [
  {
   "attachments": {},
   "cell_type": "markdown",
   "metadata": {},
   "source": [
    "## [Working title]\n",
    "\n",
    "Authors: Mitchell J. S., Anijärv, T.E., Lagopoulos, J., & Hermens, D.F.\n",
    "\n",
    "Code created by Toomas Erik Anijärv and Jules Mitchell January 2024\n",
    "\n",
    "You are free to use this or any other code from this repository for your own projects and publications. Citation or reference to the repository is not required, but would be much appreciated (see more on README.md)."
   ]
  },
  {
   "cell_type": "code",
   "execution_count": null,
   "metadata": {},
   "outputs": [],
   "source": [
    "# Import packages\n",
    "import mne, os, warnings\n",
    "import numpy as np\n",
    "\n",
    "# Set and confirm default directory\n",
    "os.chdir('C:/Users/j_m289/Pictures/GitHub/Studies/OKTOS/RS_TransferEntropy/test') # change to correct directory\n",
    "bids_folder = os.getcwd()\n",
    "mne.set_log_level('error')"
   ]
  },
  {
   "cell_type": "code",
   "execution_count": null,
   "metadata": {},
   "outputs": [],
   "source": [
    "# Define functions\n",
    "def setfile_to_epocharray(bids_folder): # change to load_bids\n",
    "\n",
    "    # Loop through subject folders\n",
    "    for subject_folder in os.listdir(bids_folder):\n",
    "        subject_path = os.path.join(bids_folder, subject_folder)\n",
    "\n",
    "        # Loop through session folders\n",
    "        for session_folder in os.listdir(subject_path):\n",
    "            session_path = os.path.join(subject_path, session_folder)\n",
    "\n",
    "            # Assuming graph files are stored as text files (modify as needed)\n",
    "            files = [f for f in os.listdir(session_path) if f.endswith(\".set\")] # Adjust file type as required\n",
    "            # Load each graph file into a directed graph\n",
    "            for file in files:\n",
    "                file_path = os.path.join(session_path, file)\n",
    "\n",
    "                # Read in the raw EEG data\n",
    "                raw = mne.io.read_raw_eeglab(file_path, eog=(), preload=False, uint16_codec=None, montage_units='mm', verbose=None)\n",
    "\n",
    "                downsampled = raw.copy().resample(sfreq=125)\n",
    "\n",
    "                epochs = mne.make_fixed_length_epochs(downsampled, duration=2.0, preload=False, reject_by_annotation=False, proj=False, overlap=0.0, id=1, verbose=None)\n",
    "\n",
    "                epoch_array = epochs.get_data(picks=['eeg'])\n",
    "\n",
    "                # Construct the file path\n",
    "                file_path = os.path.join(session_path, f'{subject_folder}_{session_folder}_EO_125_clean-epo.npy')\n",
    "\n",
    "                np.save(file_path, epoch_array)\n",
    "                    \n",
    "    return epoch_array"
   ]
  },
  {
   "cell_type": "markdown",
   "metadata": {},
   "source": [
    "### EEGLAB file epoching and conversion to numpy array"
   ]
  },
  {
   "cell_type": "code",
   "execution_count": null,
   "metadata": {},
   "outputs": [],
   "source": [
    "epoch_array = setfile_to_epocharray(bids_folder)"
   ]
  }
 ],
 "metadata": {
  "kernelspec": {
   "display_name": "Python 3.9.13 ('EEG-pipeline-TI')",
   "language": "python",
   "name": "python3"
  },
  "language_info": {
   "codemirror_mode": {
    "name": "ipython",
    "version": 3
   },
   "file_extension": ".py",
   "mimetype": "text/x-python",
   "name": "python",
   "nbconvert_exporter": "python",
   "pygments_lexer": "ipython3",
   "version": "3.9.13"
  },
  "orig_nbformat": 4,
  "vscode": {
   "interpreter": {
    "hash": "7a57757abf3656da35bfbc8305ac62bd00e5fa58b0b8fef7bd72ac98b35a77f4"
   }
  }
 },
 "nbformat": 4,
 "nbformat_minor": 2
}
